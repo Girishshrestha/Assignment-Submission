{
 "cells": [
  {
   "cell_type": "code",
   "execution_count": 1,
   "id": "cbf72f6b",
   "metadata": {},
   "outputs": [],
   "source": [
    "a,b=12.43,5.76 #assigning floot values to the variables"
   ]
  },
  {
   "cell_type": "code",
   "execution_count": 2,
   "id": "14df8248",
   "metadata": {},
   "outputs": [
    {
     "data": {
      "text/plain": [
       "12.43"
      ]
     },
     "execution_count": 2,
     "metadata": {},
     "output_type": "execute_result"
    }
   ],
   "source": [
    "a"
   ]
  },
  {
   "cell_type": "code",
   "execution_count": 3,
   "id": "7f35bb9f",
   "metadata": {},
   "outputs": [
    {
     "data": {
      "text/plain": [
       "5.76"
      ]
     },
     "execution_count": 3,
     "metadata": {},
     "output_type": "execute_result"
    }
   ],
   "source": [
    "b"
   ]
  },
  {
   "cell_type": "code",
   "execution_count": 8,
   "id": "e8b9a9c8",
   "metadata": {},
   "outputs": [
    {
     "data": {
      "text/plain": [
       "18.189999999999998"
      ]
     },
     "execution_count": 8,
     "metadata": {},
     "output_type": "execute_result"
    }
   ],
   "source": [
    "a+b #addtion\n"
   ]
  },
  {
   "cell_type": "code",
   "execution_count": 9,
   "id": "202baf97",
   "metadata": {},
   "outputs": [
    {
     "data": {
      "text/plain": [
       "6.67"
      ]
     },
     "execution_count": 9,
     "metadata": {},
     "output_type": "execute_result"
    }
   ],
   "source": [
    "a-b #subtraction"
   ]
  },
  {
   "cell_type": "code",
   "execution_count": 10,
   "id": "d94a7ef4",
   "metadata": {},
   "outputs": [
    {
     "data": {
      "text/plain": [
       "71.5968"
      ]
     },
     "execution_count": 10,
     "metadata": {},
     "output_type": "execute_result"
    }
   ],
   "source": [
    "a*b #multiplication"
   ]
  },
  {
   "cell_type": "code",
   "execution_count": 11,
   "id": "3699bfb5",
   "metadata": {},
   "outputs": [
    {
     "data": {
      "text/plain": [
       "2.157986111111111"
      ]
     },
     "execution_count": 11,
     "metadata": {},
     "output_type": "execute_result"
    }
   ],
   "source": [
    "a/b # Division"
   ]
  },
  {
   "cell_type": "code",
   "execution_count": 12,
   "id": "f3ff60cb",
   "metadata": {},
   "outputs": [
    {
     "data": {
      "text/plain": [
       "2.0"
      ]
     },
     "execution_count": 12,
     "metadata": {},
     "output_type": "execute_result"
    }
   ],
   "source": [
    "a//b # Floor Division\n"
   ]
  },
  {
   "cell_type": "code",
   "execution_count": 14,
   "id": "e15b749a",
   "metadata": {},
   "outputs": [
    {
     "data": {
      "text/plain": [
       "0.9100000000000001"
      ]
     },
     "execution_count": 14,
     "metadata": {},
     "output_type": "execute_result"
    }
   ],
   "source": [
    "a % b # modulus"
   ]
  },
  {
   "cell_type": "code",
   "execution_count": 15,
   "id": "3e62ffec",
   "metadata": {},
   "outputs": [
    {
     "data": {
      "text/plain": [
       "2014437.052283847"
      ]
     },
     "execution_count": 15,
     "metadata": {},
     "output_type": "execute_result"
    }
   ],
   "source": [
    "a**b # Power"
   ]
  },
  {
   "cell_type": "code",
   "execution_count": null,
   "id": "167d441e",
   "metadata": {},
   "outputs": [],
   "source": []
  }
 ],
 "metadata": {
  "kernelspec": {
   "display_name": "Python 3 (ipykernel)",
   "language": "python",
   "name": "python3"
  },
  "language_info": {
   "codemirror_mode": {
    "name": "ipython",
    "version": 3
   },
   "file_extension": ".py",
   "mimetype": "text/x-python",
   "name": "python",
   "nbconvert_exporter": "python",
   "pygments_lexer": "ipython3",
   "version": "3.11.4"
  }
 },
 "nbformat": 4,
 "nbformat_minor": 5
}
