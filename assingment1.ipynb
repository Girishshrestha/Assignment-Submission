{
 "cells": [
  {
   "cell_type": "code",
   "execution_count": 1,
   "id": "fb9eab5d",
   "metadata": {},
   "outputs": [],
   "source": [
    "a,b=12.43,5.76 #assigning float point values to the variables"
   ]
  },
  {
   "cell_type": "code",
   "execution_count": 2,
   "id": "238f9ba9",
   "metadata": {},
   "outputs": [
    {
     "data": {
      "text/plain": [
       "12.43"
      ]
     },
     "execution_count": 2,
     "metadata": {},
     "output_type": "execute_result"
    }
   ],
   "source": [
    "a"
   ]
  },
  {
   "cell_type": "code",
   "execution_count": 3,
   "id": "706b9683",
   "metadata": {},
   "outputs": [
    {
     "data": {
      "text/plain": [
       "5.76"
      ]
     },
     "execution_count": 3,
     "metadata": {},
     "output_type": "execute_result"
    }
   ],
   "source": [
    "b"
   ]
  },
  {
   "cell_type": "code",
   "execution_count": 8,
   "id": "00d03b95",
   "metadata": {},
   "outputs": [
    {
     "data": {
      "text/plain": [
       "18.189999999999998"
      ]
     },
     "execution_count": 8,
     "metadata": {},
     "output_type": "execute_result"
    }
   ],
   "source": [
    "a+b #addtion\n"
   ]
  },
  {
   "cell_type": "code",
   "execution_count": 9,
   "id": "7d3ede3d",
   "metadata": {},
   "outputs": [
    {
     "data": {
      "text/plain": [
       "6.67"
      ]
     },
     "execution_count": 9,
     "metadata": {},
     "output_type": "execute_result"
    }
   ],
   "source": [
    "a-b #subtraction"
   ]
  },
  {
   "cell_type": "code",
   "execution_count": 10,
   "id": "a4b75837",
   "metadata": {},
   "outputs": [
    {
     "data": {
      "text/plain": [
       "71.5968"
      ]
     },
     "execution_count": 10,
     "metadata": {},
     "output_type": "execute_result"
    }
   ],
   "source": [
    "a*b #multiplication"
   ]
  },
  {
   "cell_type": "code",
   "execution_count": 11,
   "id": "b65ca64b",
   "metadata": {},
   "outputs": [
    {
     "data": {
      "text/plain": [
       "2.157986111111111"
      ]
     },
     "execution_count": 11,
     "metadata": {},
     "output_type": "execute_result"
    }
   ],
   "source": [
    "a/b # Division"
   ]
  },
  {
   "cell_type": "code",
   "execution_count": 12,
   "id": "be7eee4b",
   "metadata": {},
   "outputs": [
    {
     "data": {
      "text/plain": [
       "2.0"
      ]
     },
     "execution_count": 12,
     "metadata": {},
     "output_type": "execute_result"
    }
   ],
   "source": [
    "a//b # Floor Division\n"
   ]
  },
  {
   "cell_type": "code",
   "execution_count": 14,
   "id": "59b7e23e",
   "metadata": {},
   "outputs": [
    {
     "data": {
      "text/plain": [
       "0.9100000000000001"
      ]
     },
     "execution_count": 14,
     "metadata": {},
     "output_type": "execute_result"
    }
   ],
   "source": [
    "a % b # modulus"
   ]
  },
  {
   "cell_type": "code",
   "execution_count": 15,
   "id": "2de8cb5e",
   "metadata": {},
   "outputs": [
    {
     "data": {
      "text/plain": [
       "2014437.052283847"
      ]
     },
     "execution_count": 15,
     "metadata": {},
     "output_type": "execute_result"
    }
   ],
   "source": [
    "a**b # Power"
   ]
  },
  {
   "cell_type": "code",
   "execution_count": null,
   "id": "94f8897c",
   "metadata": {},
   "outputs": [],
   "source": []
  }
 ],
 "metadata": {
  "kernelspec": {
   "display_name": "Python 3 (ipykernel)",
   "language": "python",
   "name": "python3"
  },
  "language_info": {
   "codemirror_mode": {
    "name": "ipython",
    "version": 3
   },
   "file_extension": ".py",
   "mimetype": "text/x-python",
   "name": "python",
   "nbconvert_exporter": "python",
   "pygments_lexer": "ipython3",
   "version": "3.11.4"
  }
 },
 "nbformat": 4,
 "nbformat_minor": 5
}
